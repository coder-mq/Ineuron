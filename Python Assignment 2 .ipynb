{
 "cells": [
  {
   "cell_type": "markdown",
   "metadata": {},
   "source": [
    "## Assignment 1 : \n",
    "\n",
    "## Create a pattern below using nested for loop:\n",
    "## *\n",
    "## **\n",
    "## ***\n",
    "## ****\n",
    "## *****\n",
    "## ****\n",
    "## ***\n",
    "## **\n",
    "## *"
   ]
  },
  {
   "cell_type": "code",
   "execution_count": 14,
   "metadata": {},
   "outputs": [
    {
     "name": "stdout",
     "output_type": "stream",
     "text": [
      " * \r\n",
      " *  * \r\n",
      " *  *  * \r\n",
      " *  *  *  * \r\n",
      " *  *  *  *  * \r\n",
      " *  *  *  * \r\n",
      " *  *  * \r\n",
      " *  * \r\n",
      " * \r\n"
     ]
    }
   ],
   "source": [
    "##Code\n",
    "\n",
    "for i in range(0,5):\n",
    "    for j in range(0,i+1):\n",
    "        print(' * ',end= \"\")    \n",
    "    print(\"\\r\")\n",
    "for i in range(4,0,-1):\n",
    "    for j in range(i):\n",
    "        print(' * ',end= \"\")    \n",
    "    print(\"\\r\")\n",
    "    \n",
    "    \n",
    "    \n",
    "    "
   ]
  },
  {
   "cell_type": "markdown",
   "metadata": {},
   "source": [
    "## Assignment 2\n",
    "\n",
    "## Write a Python program to reverse a word after accepting the input from the user.\n",
    "## Sample Output :\n",
    "## Input word: ineuron\n",
    "## Output: norueni"
   ]
  },
  {
   "cell_type": "code",
   "execution_count": 18,
   "metadata": {},
   "outputs": [
    {
     "name": "stdout",
     "output_type": "stream",
     "text": [
      " Please enter name :  ineuron\n",
      "\n",
      " The original name =  ineuron\n",
      " The Reversed name =  norueni\n"
     ]
    }
   ],
   "source": [
    "\n",
    "##Code\n",
    "\n",
    "name = input(\" Please enter name :  \")\n",
    "\n",
    "name1 = ''\n",
    "\n",
    "for i in name:\n",
    "    name1 = i + name1\n",
    "    \n",
    "print(\"\\n The original name = \", name)\n",
    "print(\" The Reversed name = \", name1) \n",
    "    \n",
    "\n",
    " "
   ]
  }
 ],
 "metadata": {
  "kernelspec": {
   "display_name": "Python 3",
   "language": "python",
   "name": "python3"
  },
  "language_info": {
   "codemirror_mode": {
    "name": "ipython",
    "version": 3
   },
   "file_extension": ".py",
   "mimetype": "text/x-python",
   "name": "python",
   "nbconvert_exporter": "python",
   "pygments_lexer": "ipython3",
   "version": "3.8.5"
  }
 },
 "nbformat": 4,
 "nbformat_minor": 4
}
